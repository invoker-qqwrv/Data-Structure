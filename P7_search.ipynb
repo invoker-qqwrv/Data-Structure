{
  "nbformat": 4,
  "nbformat_minor": 0,
  "metadata": {
    "colab": {
      "provenance": [],
      "authorship_tag": "ABX9TyOKZVL0OTjUn0IVF+ujQaV1",
      "include_colab_link": true
    },
    "kernelspec": {
      "name": "python3",
      "display_name": "Python 3"
    },
    "language_info": {
      "name": "python"
    }
  },
  "cells": [
    {
      "cell_type": "markdown",
      "metadata": {
        "id": "view-in-github",
        "colab_type": "text"
      },
      "source": [
        "<a href=\"https://colab.research.google.com/github/invoker-qqwrv/Data-Structure/blob/main/P7_search.ipynb\" target=\"_parent\"><img src=\"https://colab.research.google.com/assets/colab-badge.svg\" alt=\"Open In Colab\"/></a>"
      ]
    },
    {
      "cell_type": "code",
      "source": [
        "# index是内置列表查找函数"
      ],
      "metadata": {
        "id": "rU6zHAplOjlK"
      },
      "execution_count": null,
      "outputs": []
    },
    {
      "cell_type": "code",
      "execution_count": 14,
      "metadata": {
        "id": "SHAJaoLuKCpu",
        "colab": {
          "base_uri": "https://localhost:8080/"
        },
        "outputId": "b88d741a-2979-4be8-fba7-686a62714f63"
      },
      "outputs": [
        {
          "output_type": "execute_result",
          "data": {
            "text/plain": [
              "1"
            ]
          },
          "metadata": {},
          "execution_count": 14
        }
      ],
      "source": [
        "def linear_research(li,val):#设置的两个变量，一个是列表，一个是列表中的元素\n",
        "  for index,v in enumerate(li):#index是标号，v是元素\n",
        "    if v==val:#如果输入的val值等于v，就return index\n",
        "      return index#返回元素的索引\n",
        "      \n",
        "  else:#如果for循环执行完还没找到.这里for是和else对其的\n",
        "    return None\n",
        "linear_research([1,2,3,4],2)"
      ]
    },
    {
      "cell_type": "code",
      "source": [
        "lst=['asd','asfd','fgd','sg']\n",
        "# print(lst[sg])#这样输出是错的\n",
        "print(lst[2])"
      ],
      "metadata": {
        "colab": {
          "base_uri": "https://localhost:8080/"
        },
        "id": "qpmrchU_PP7d",
        "outputId": "9a62bbca-0465-4000-b0d6-5ecbb65feb29"
      },
      "execution_count": 4,
      "outputs": [
        {
          "output_type": "stream",
          "name": "stdout",
          "text": [
            "fgd\n"
          ]
        }
      ]
    },
    {
      "cell_type": "code",
      "source": [
        "#二分查找dichotomy\n",
        "def binary_search(list,val):#val也是表示下标\n",
        "  left=0\n",
        "  right=len(list)-1\n",
        "  while left<=right:\n",
        "    mid=(left+right)//2#先做除法，然后向下取整\n",
        "    if list[mid]==val:#mid所在的index和输入的val（这里的val指的是具体的值）相同。找到了，直接返回mid值\n",
        "      return mid\n",
        "    elif list[mid]>val:#待查找的值在mid的左侧\n",
        "      right=mid-1\n",
        "    else: #list[mid]<val:待查找的值在mid右侧\n",
        "      left=mid+1\n",
        "  else:\n",
        "    return None\n",
        "lst=[1,2,3,4,5,6,7,8,9]\n",
        "print(binary_search(lst,4))\n",
        "#输出在第三位3\n",
        "\n"
      ],
      "metadata": {
        "colab": {
          "base_uri": "https://localhost:8080/"
        },
        "id": "z58uRDLDMX92",
        "outputId": "8d5016a6-b371-42ae-e454-eba9269e47d1"
      },
      "execution_count": null,
      "outputs": [
        {
          "output_type": "stream",
          "name": "stdout",
          "text": [
            "3\n"
          ]
        }
      ]
    }
  ]
}