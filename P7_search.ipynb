{
  "nbformat": 4,
  "nbformat_minor": 0,
  "metadata": {
    "colab": {
      "provenance": [],
      "authorship_tag": "ABX9TyMghlRWT1xNy5FA4T2Z36IP",
      "include_colab_link": true
    },
    "kernelspec": {
      "name": "python3",
      "display_name": "Python 3"
    },
    "language_info": {
      "name": "python"
    }
  },
  "cells": [
    {
      "cell_type": "markdown",
      "metadata": {
        "id": "view-in-github",
        "colab_type": "text"
      },
      "source": [
        "<a href=\"https://colab.research.google.com/github/invoker-qqwrv/Data-Structure/blob/main/P7_search.ipynb\" target=\"_parent\"><img src=\"https://colab.research.google.com/assets/colab-badge.svg\" alt=\"Open In Colab\"/></a>"
      ]
    },
    {
      "cell_type": "code",
      "execution_count": 2,
      "metadata": {
        "id": "SHAJaoLuKCpu"
      },
      "outputs": [],
      "source": [
        "def linear_research(list,val):#设置的两个变量，一个是列表，一个是列表中的元素\n",
        "  for index,v in enumerate(list):\n",
        "    if v==val:\n",
        "      return index#返回元素的索引\n",
        "    else:\n",
        "      return None\n",
        "linear_research([1,2,3,4],4)"
      ]
    },
    {
      "cell_type": "code",
      "source": [
        "lst=['asd','asfd','fgd','sg']\n",
        "# print(lst[sg])#这样输出是错的\n",
        "print(lst[2])"
      ],
      "metadata": {
        "colab": {
          "base_uri": "https://localhost:8080/"
        },
        "id": "qpmrchU_PP7d",
        "outputId": "56922ad8-9753-49ec-df6e-06b607089e6b"
      },
      "execution_count": 5,
      "outputs": [
        {
          "output_type": "stream",
          "name": "stdout",
          "text": [
            "fgd\n"
          ]
        }
      ]
    },
    {
      "cell_type": "code",
      "source": [
        "#二分查找dichotomy\n",
        "def binary_search(list,val):#val也是表示下标\n",
        "  left=0\n",
        "  right=len(list)-1\n",
        "  while left<=right:\n",
        "    mid=(left+right)//2\n",
        "    if list[mid]==val:#mid所在的index和输入的val（这里的val指的是具体的值）相同。找到了，直接返回mid值\n",
        "      return mid\n",
        "    elif list[mid]>val:#待查找的值在mid的左侧\n",
        "      right=mid-1\n",
        "    else: #list[mid]<val:待查找的值在mid右侧\n",
        "      left=mid+1\n",
        "  else:\n",
        "    return None\n",
        "lst=[1,2,3,4,5,6,7,8,9]\n",
        "print(binary_search(lst,4))\n",
        "#输出在第三位3\n",
        "\n"
      ],
      "metadata": {
        "colab": {
          "base_uri": "https://localhost:8080/"
        },
        "id": "z58uRDLDMX92",
        "outputId": "8d5016a6-b371-42ae-e454-eba9269e47d1"
      },
      "execution_count": 7,
      "outputs": [
        {
          "output_type": "stream",
          "name": "stdout",
          "text": [
            "3\n"
          ]
        }
      ]
    }
  ]
}