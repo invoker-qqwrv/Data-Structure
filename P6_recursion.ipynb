{
  "nbformat": 4,
  "nbformat_minor": 0,
  "metadata": {
    "colab": {
      "provenance": [],
      "authorship_tag": "ABX9TyPST7o5n9aQcmjK5Fh0Trpt",
      "include_colab_link": true
    },
    "kernelspec": {
      "name": "python3",
      "display_name": "Python 3"
    },
    "language_info": {
      "name": "python"
    }
  },
  "cells": [
    {
      "cell_type": "markdown",
      "metadata": {
        "id": "view-in-github",
        "colab_type": "text"
      },
      "source": [
        "<a href=\"https://colab.research.google.com/github/invoker-qqwrv/Data-Structure/blob/main/P6_recursion.ipynb\" target=\"_parent\"><img src=\"https://colab.research.google.com/assets/colab-badge.svg\" alt=\"Open In Colab\"/></a>"
      ]
    },
    {
      "cell_type": "code",
      "execution_count": null,
      "metadata": {
        "colab": {
          "base_uri": "https://localhost:8080/"
        },
        "id": "gcDQI05PAj8E",
        "outputId": "57479c3f-2059-4dc7-faee-c0b861bbd58e"
      },
      "outputs": [
        {
          "output_type": "stream",
          "name": "stdout",
          "text": [
            "1\n",
            "2\n",
            "3\n"
          ]
        }
      ],
      "source": [
        "# 先递归再打印\n",
        "# 一环套一环，但是函数还是从上到下执行的。所以是先输出1，再2 再3\n",
        "def func(x):\n",
        "  if x>0:\n",
        "    func(x-1)\n",
        "    print(x)\n",
        "func(3)"
      ]
    },
    {
      "cell_type": "code",
      "source": [
        "# 先打印再递归\n",
        "def func(x):\n",
        "  if x>0:\n",
        "    print(x)\n",
        "    func(x-1)\n",
        "func(3)"
      ],
      "metadata": {
        "colab": {
          "base_uri": "https://localhost:8080/"
        },
        "id": "aXwry6cvBw8m",
        "outputId": "0c47f0ea-6865-4335-9cff-8f939d756291"
      },
      "execution_count": null,
      "outputs": [
        {
          "output_type": "stream",
          "name": "stdout",
          "text": [
            "3\n",
            "2\n",
            "1\n"
          ]
        }
      ]
    },
    {
      "cell_type": "code",
      "source": [
        "# P6\n",
        "#n个盘子，a柱b柱c柱\n",
        "def hanoi(n, a, b, c):\n",
        "  if n>0:\n",
        "    hanoi(n-1,a,c,b)#n-1个盘子经过c移动到b\n",
        "    print('moving from %s to %s'%(a,c))\n",
        "    hanoi(n-1,b,a,c)\n",
        "hanoi(3,'A','B','C')\n",
        "\n"
      ],
      "metadata": {
        "colab": {
          "base_uri": "https://localhost:8080/"
        },
        "id": "Sg7D0fwKHbRd",
        "outputId": "7ffa2e39-fc26-4d1d-fb82-f41ecbfcb6d0"
      },
      "execution_count": null,
      "outputs": [
        {
          "output_type": "stream",
          "name": "stdout",
          "text": [
            "moving from A to C\n",
            "moving from A to B\n",
            "moving from C to B\n",
            "moving from A to C\n",
            "moving from B to A\n",
            "moving from B to C\n",
            "moving from A to C\n"
          ]
        }
      ]
    }
  ]
}