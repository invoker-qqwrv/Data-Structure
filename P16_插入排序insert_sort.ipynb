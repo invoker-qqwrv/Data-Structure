{
  "nbformat": 4,
  "nbformat_minor": 0,
  "metadata": {
    "colab": {
      "provenance": [],
      "authorship_tag": "ABX9TyO3j8SES4v0z5SDOfqi8Rkx",
      "include_colab_link": true
    },
    "kernelspec": {
      "name": "python3",
      "display_name": "Python 3"
    },
    "language_info": {
      "name": "python"
    }
  },
  "cells": [
    {
      "cell_type": "markdown",
      "metadata": {
        "id": "view-in-github",
        "colab_type": "text"
      },
      "source": [
        "<a href=\"https://colab.research.google.com/github/invoker-qqwrv/Data-Structure/blob/main/P16_%E6%8F%92%E5%85%A5%E6%8E%92%E5%BA%8Finsert_sort.ipynb\" target=\"_parent\"><img src=\"https://colab.research.google.com/assets/colab-badge.svg\" alt=\"Open In Colab\"/></a>"
      ]
    },
    {
      "cell_type": "code",
      "execution_count": null,
      "metadata": {
        "id": "VZmkb3iN5hrt"
      },
      "outputs": [],
      "source": [
        "# 初始时手里有一张牌。手里的牌叫有序区\n",
        "# 每次从无序区摸一张牌，插入到手里已有牌的正确位置。\n",
        "# 时间复杂度 O(n²)"
      ]
    },
    {
      "cell_type": "code",
      "source": [
        "def insert_sort(li):\n",
        "  for i in range(1,len(li)): # i就表示摸到的牌的下标\n",
        "    j = i-1 #手里的牌的下标\n",
        "    tmp = li[i] #摸到的牌\n",
        "    # 只要j位置的牌比摸到的牌小，就把摸到得这张牌插到j的右边，j = -1时候，就到头了\n",
        "    while j >= 0 and li[j] > tmp: #手里的牌比摸到的牌大\n",
        "      li[j+1] = li[j] #手里的牌往右移\n",
        "      j -= 1 #这时箭头只想前一张牌，知道j=-1时，循环终止\n",
        "    li[j+1] = tmp\n",
        "\n",
        "li = [2,5,1,6,2,7,43,6]\n",
        "insert_sort(li)\n",
        "print(li)"
      ],
      "metadata": {
        "colab": {
          "base_uri": "https://localhost:8080/"
        },
        "id": "a1UPjuLk9wBa",
        "outputId": "20c47c2c-3697-469b-8ae6-ce01dedde235"
      },
      "execution_count": 6,
      "outputs": [
        {
          "output_type": "stream",
          "name": "stdout",
          "text": [
            "[1, 2, 2, 5, 6, 6, 7, 43]\n"
          ]
        }
      ]
    }
  ]
}