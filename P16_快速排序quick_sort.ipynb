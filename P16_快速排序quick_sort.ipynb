{
  "nbformat": 4,
  "nbformat_minor": 0,
  "metadata": {
    "colab": {
      "provenance": [],
      "authorship_tag": "ABX9TyM4eAIE22jM2iAsnWEYK6zm",
      "include_colab_link": true
    },
    "kernelspec": {
      "name": "python3",
      "display_name": "Python 3"
    },
    "language_info": {
      "name": "python"
    }
  },
  "cells": [
    {
      "cell_type": "markdown",
      "metadata": {
        "id": "view-in-github",
        "colab_type": "text"
      },
      "source": [
        "<a href=\"https://colab.research.google.com/github/invoker-qqwrv/Data-Structure/blob/main/P16_%E5%BF%AB%E9%80%9F%E6%8E%92%E5%BA%8Fquick_sort.ipynb\" target=\"_parent\"><img src=\"https://colab.research.google.com/assets/colab-badge.svg\" alt=\"Open In Colab\"/></a>"
      ]
    },
    {
      "cell_type": "code",
      "execution_count": null,
      "metadata": {
        "colab": {
          "base_uri": "https://localhost:8080/"
        },
        "id": "6Vmpx6yop03k",
        "outputId": "2ca77653-3ecb-428d-cef7-4f5705e93176"
      },
      "outputs": [
        {
          "output_type": "stream",
          "name": "stdout",
          "text": [
            "[2, 3, 4, 7, 6, 9]\n"
          ]
        }
      ],
      "source": [
        "# 取第一个元素为p，使元素归位，也就是列表被p分成两部分，左边都比p小，右边都比p大\n",
        "# partition函数算出来中间的下标的位置\n",
        "def partition(li,left,right):\n",
        "  tmp = li[left] #把列表的第一个位置提取出来，然后开始循环。这时左边有空位\n",
        "  # 循环结束的时候是左右双指针重合的时候，也就是left和right重合的时候\n",
        "  # 首先从右边找一个比tmp小的数\n",
        "  while left < right:#只要左边小于右边就一直循环。这里不用ls[0]的原因是0是死的，left是活的\n",
        "    while left <right and li[right] >= tmp:#右边的数比tmp大的时候，指针左移\n",
        "      right -= 1 #指针左移\n",
        "      # 循环结束之后就找到了比tmp小的数。也有可能都循环完了都比tmp大\n",
        "      li[left] = li[right]#把右边的值写到左边空位去。\n",
        "    #接下来处理左半部分\n",
        "    while left < right and li[left] <= tmp:\n",
        "      left += 1\n",
        "    li[right] = li[left] #把右边的值写到左边的空位去\n",
        "\n",
        "\n",
        "  li[left] = tmp#把tmp归位\n",
        "li=[4,6,7,3,2,9]\n",
        "partition(li,0,len(li)-1)\n",
        "print(li)\n",
        "# 14分钟\n"
      ]
    }
  ]
}