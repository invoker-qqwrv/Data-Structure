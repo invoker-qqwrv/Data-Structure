{
  "nbformat": 4,
  "nbformat_minor": 0,
  "metadata": {
    "colab": {
      "provenance": [],
      "authorship_tag": "ABX9TyP4FCdte1j9SMChkeRP4A/b",
      "include_colab_link": true
    },
    "kernelspec": {
      "name": "python3",
      "display_name": "Python 3"
    },
    "language_info": {
      "name": "python"
    }
  },
  "cells": [
    {
      "cell_type": "markdown",
      "metadata": {
        "id": "view-in-github",
        "colab_type": "text"
      },
      "source": [
        "<a href=\"https://colab.research.google.com/github/invoker-qqwrv/Data-Structure/blob/main/P12%E6%8E%92%E5%BA%8F_bubble_sort_%E5%86%92%E6%B3%A1%E6%B3%95.ipynb\" target=\"_parent\"><img src=\"https://colab.research.google.com/assets/colab-badge.svg\" alt=\"Open In Colab\"/></a>"
      ]
    },
    {
      "cell_type": "code",
      "execution_count": null,
      "metadata": {
        "id": "7Gj-vSna-ZhR"
      },
      "outputs": [],
      "source": [
        "# 将无序列表调整为有序列表\n",
        "# 升序/降序\n",
        "# 内置排序函数：sort()\n",
        "# 常见排序算法：lowb三人组：冒泡排序，选择排序，插入排序\n",
        "# nb三人组：快速排序，堆排序，归并排序\n",
        "# 其他排序：希尔排序，计数排序，基数排序"
      ]
    },
    {
      "cell_type": "code",
      "source": [
        "# Bubble sort冒泡排序.时间复杂度O（n²）\n",
        "# 每两个想留的数，如果前面的比后面的打，交换位置。每趟就会让最大数在最上面。\n",
        "# 一次排序完成后，无序区减少一个数，有序区增加一个数。整个算法由n-1趟完成\n",
        "import random\n",
        "def bubble_sort(li):\n",
        "  for i in range(len(li)-1):#第i趟\n",
        "    for j in range(len(li)-i-1):#箭头指的那个数。箭头从0开始\n",
        "      if li[j]>li[j+1]:\n",
        "        li[j],li[j+1] = li[j+1],li[j]\n",
        "li=[random.randint(0,10000)for i in range(100)]#随机生成一个列表，一千个数，取值在（0，10000）\n",
        "print(li)\n",
        "bubble_sort(li)\n",
        "print(li)"
      ],
      "metadata": {
        "colab": {
          "base_uri": "https://localhost:8080/"
        },
        "id": "M-I7PXjJ_KpJ",
        "outputId": "8bfa3a42-c7dc-4830-d43f-d80736223635"
      },
      "execution_count": 3,
      "outputs": [
        {
          "output_type": "stream",
          "name": "stdout",
          "text": [
            "[5489, 2171, 7153, 2578, 3184, 8962, 748, 3783, 2641, 2625, 6923, 8413, 9032, 3087, 9096, 6858, 8545, 8116, 5157, 8201, 57, 3877, 1393, 3759, 633, 9323, 5741, 723, 5087, 389, 6291, 9246, 860, 2499, 2222, 2381, 1548, 5551, 5627, 3697, 8709, 5113, 5763, 4126, 7893, 1279, 842, 210, 6945, 5662, 1592, 7180, 9485, 4920, 2125, 2365, 4464, 5320, 3778, 2130, 8513, 1586, 1411, 5814, 6188, 1799, 4749, 1277, 161, 8282, 3500, 1364, 5656, 3766, 186, 5446, 9879, 5059, 4971, 4633, 1984, 2355, 8447, 4046, 309, 9645, 8287, 421, 7687, 8953, 4123, 5839, 3435, 4655, 4968, 6744, 1750, 1642, 4144, 2814]\n",
            "[57, 161, 186, 210, 309, 389, 421, 633, 723, 748, 842, 860, 1277, 1279, 1364, 1393, 1411, 1548, 1586, 1592, 1642, 1750, 1799, 1984, 2125, 2130, 2171, 2222, 2355, 2365, 2381, 2499, 2578, 2625, 2641, 2814, 3087, 3184, 3435, 3500, 3697, 3759, 3766, 3778, 3783, 3877, 4046, 4123, 4126, 4144, 4464, 4633, 4655, 4749, 4920, 4968, 4971, 5059, 5087, 5113, 5157, 5320, 5446, 5489, 5551, 5627, 5656, 5662, 5741, 5763, 5814, 5839, 6188, 6291, 6744, 6858, 6923, 6945, 7153, 7180, 7687, 7893, 8116, 8201, 8282, 8287, 8413, 8447, 8513, 8545, 8709, 8953, 8962, 9032, 9096, 9246, 9323, 9485, 9645, 9879]\n"
          ]
        }
      ]
    },
    {
      "cell_type": "code",
      "source": [
        "# 但是如果在一趟里面已经排好序了，就不用再继续排了:\n",
        "# 比如:\n",
        "def bubble_sort(li):\n",
        "  for i in range(len(li)-1):#第i趟\n",
        "    for j in range(len(li)-i-1):#箭头指的那个数。箭头从0开始\n",
        "      if li[j]>li[j+1]:\n",
        "        li[j],li[j+1] = li[j+1],li[j]\n",
        "    print(li)\n",
        "li = [9,8,7,1,2,3,4,5,6]\n",
        "print(bubble_sort(li))"
      ],
      "metadata": {
        "colab": {
          "base_uri": "https://localhost:8080/"
        },
        "id": "LDnSxAKjDpUI",
        "outputId": "5b3f498c-cebf-4b9f-cbbc-f2e7c004bc56"
      },
      "execution_count": 6,
      "outputs": [
        {
          "output_type": "stream",
          "name": "stdout",
          "text": [
            "[8, 7, 1, 2, 3, 4, 5, 6, 9]\n",
            "[7, 1, 2, 3, 4, 5, 6, 8, 9]\n",
            "[1, 2, 3, 4, 5, 6, 7, 8, 9]\n",
            "[1, 2, 3, 4, 5, 6, 7, 8, 9]\n",
            "[1, 2, 3, 4, 5, 6, 7, 8, 9]\n",
            "[1, 2, 3, 4, 5, 6, 7, 8, 9]\n",
            "[1, 2, 3, 4, 5, 6, 7, 8, 9]\n",
            "[1, 2, 3, 4, 5, 6, 7, 8, 9]\n",
            "None\n"
          ]
        }
      ]
    },
    {
      "cell_type": "code",
      "source": [
        "# 代码改进如下.为什么代码还是没有简化啊？\n",
        "\n",
        "def bubble_sort(li):\n",
        "  for i in range(len(li)-1):#第i趟\n",
        "    exchange = False#未发生交换\n",
        "    for j in range(len(li)-i-1):#箭头指的那个数。箭头从0开始\n",
        "      if li[j]>li[j+1]:\n",
        "        li[j],li[j+1] = li[j+1],li[j]\n",
        "        exchange = True#发生交换是True\n",
        "    print(li)\n",
        "  if not exchange:\n",
        "    return\n",
        "# li = [9,8,7,1,2,3,4,5,6]\n",
        "li = [1,2,3,4,5,6,7,8]\n",
        "print(li)\n",
        "bubble_sort(li)\n",
        "print(li)"
      ],
      "metadata": {
        "colab": {
          "base_uri": "https://localhost:8080/"
        },
        "id": "Gj-rKFLLEEUf",
        "outputId": "c6f82e67-ce72-44cb-d562-82445bbce33a"
      },
      "execution_count": 18,
      "outputs": [
        {
          "output_type": "stream",
          "name": "stdout",
          "text": [
            "[1, 2, 3, 4, 5, 6, 7, 8]\n",
            "[1, 2, 3, 4, 5, 6, 7, 8]\n",
            "[1, 2, 3, 4, 5, 6, 7, 8]\n",
            "[1, 2, 3, 4, 5, 6, 7, 8]\n",
            "[1, 2, 3, 4, 5, 6, 7, 8]\n",
            "[1, 2, 3, 4, 5, 6, 7, 8]\n",
            "[1, 2, 3, 4, 5, 6, 7, 8]\n",
            "[1, 2, 3, 4, 5, 6, 7, 8]\n",
            "[1, 2, 3, 4, 5, 6, 7, 8]\n"
          ]
        }
      ]
    }
  ]
}