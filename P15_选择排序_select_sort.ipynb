{
  "nbformat": 4,
  "nbformat_minor": 0,
  "metadata": {
    "colab": {
      "provenance": [],
      "authorship_tag": "ABX9TyOTS66LMPcvUVhy00oXaozZ",
      "include_colab_link": true
    },
    "kernelspec": {
      "name": "python3",
      "display_name": "Python 3"
    },
    "language_info": {
      "name": "python"
    }
  },
  "cells": [
    {
      "cell_type": "markdown",
      "metadata": {
        "id": "view-in-github",
        "colab_type": "text"
      },
      "source": [
        "<a href=\"https://colab.research.google.com/github/invoker-qqwrv/Data-Structure/blob/main/P15_%E9%80%89%E6%8B%A9%E6%8E%92%E5%BA%8F_select_sort.ipynb\" target=\"_parent\"><img src=\"https://colab.research.google.com/assets/colab-badge.svg\" alt=\"Open In Colab\"/></a>"
      ]
    },
    {
      "cell_type": "code",
      "execution_count": 3,
      "metadata": {
        "colab": {
          "base_uri": "https://localhost:8080/"
        },
        "id": "f1UYcQ6Hst23",
        "outputId": "a806777e-722e-43cf-b2cb-3718b0bba181"
      },
      "outputs": [
        {
          "output_type": "stream",
          "name": "stdout",
          "text": [
            "[2, 3, 3, 4, 5, 6, 9]\n"
          ]
        }
      ],
      "source": [
        "# 遍历列表，找到一个最小的数，拿出来，每次都遍历，然后找出最小的拿出来\n",
        "def select_sort_simple(li):\n",
        "  li_new = []\n",
        "  for i in range(len(li)):\n",
        "\n",
        "    min_val = min(li)\n",
        "    li_new.append(min_val)\n",
        "    li.remove(min_val)\n",
        "  return li_new\n",
        "li = [3,5,6,2,4,9,3]\n",
        "print(select_sort_simple(li))"
      ]
    },
    {
      "cell_type": "code",
      "source": [
        "# 但是这个算法有致命的缺点，因为生成了两个列表。会占用双份内存。\n",
        "# 复杂度高,因为remove和min操作都需要遍历一遍才找到.所以复杂度高.O(n)的平方"
      ],
      "metadata": {
        "id": "Y1r44M49uiKU"
      },
      "execution_count": null,
      "outputs": []
    },
    {
      "cell_type": "code",
      "source": [
        "# 我们不想开一个新列表.所以可以把这个拿出来的最小数,放在第一位,然后第一位原来的位置交换.然后对剩下的无序列表进行排序\n",
        "# 每次选出一个无序区最小值，所以一共进行n-1趟，因为最后一个数不用排序\n",
        "def select_sort(li):\n",
        "  for i in range(len(li)-1):#i是第几趟，第0趟是从0到最后，第i趟是从i到最后\n",
        "    min_loc = i # 假定无序区第一个是最小值，\n",
        "    for j in range(i+1,len(li)):#无序区是i到最后.但是不用和自己比，所以从i+1\n",
        "      if li[j] < li[min_loc]:\n",
        "        min_loc = j\n",
        "    li[i] ,li[min_loc] = li[min_loc], li[i]\n",
        "    print(li)\n",
        "li = [3,5,6,2,4,9,3]\n",
        "select_sort(li)\n",
        "print(li)#为啥输出不能写在一起啊"
      ],
      "metadata": {
        "colab": {
          "base_uri": "https://localhost:8080/"
        },
        "id": "EsSDcct0vH-M",
        "outputId": "d77f42d8-a3f7-420c-d67e-1bfc0834fa85"
      },
      "execution_count": 14,
      "outputs": [
        {
          "output_type": "stream",
          "name": "stdout",
          "text": [
            "[2, 5, 6, 3, 4, 9, 3]\n",
            "[2, 3, 6, 5, 4, 9, 3]\n",
            "[2, 3, 3, 5, 4, 9, 6]\n",
            "[2, 3, 3, 4, 5, 9, 6]\n",
            "[2, 3, 3, 4, 5, 9, 6]\n",
            "[2, 3, 3, 4, 5, 6, 9]\n",
            "[2, 3, 3, 4, 5, 6, 9]\n"
          ]
        }
      ]
    },
    {
      "cell_type": "code",
      "source": [
        "# 上述函数还是有同样的问题，就是后几次依然在循环。但是目前并没有这种优化。暂时没有优化方式，但是后面会有希尔排序\n",
        "# 算法关键点：无序区最小数的位置\n",
        "# 复杂度：O（n）²。两层循环"
      ],
      "metadata": {
        "id": "AXgPncT-4cQH"
      },
      "execution_count": null,
      "outputs": []
    }
  ]
}